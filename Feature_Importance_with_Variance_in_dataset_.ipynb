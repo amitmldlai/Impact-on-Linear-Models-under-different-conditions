{
  "nbformat": 4,
  "nbformat_minor": 0,
  "metadata": {
    "kernelspec": {
      "display_name": "Python 3",
      "language": "python",
      "name": "python3"
    },
    "language_info": {
      "codemirror_mode": {
        "name": "ipython",
        "version": 3
      },
      "file_extension": ".py",
      "mimetype": "text/x-python",
      "name": "python",
      "nbconvert_exporter": "python",
      "pygments_lexer": "ipython3",
      "version": "3.6.8"
    },
    "colab": {
      "provenance": [],
      "collapsed_sections": [],
      "include_colab_link": true
    }
  },
  "cells": [
    {
      "cell_type": "markdown",
      "metadata": {
        "id": "view-in-github",
        "colab_type": "text"
      },
      "source": [
        "<a href=\"https://colab.research.google.com/github/amitmldlai/Impact-on-Linear-Models-under-different-conditions/blob/main/Feature_Importance_with_Variance_in_dataset_.ipynb\" target=\"_parent\"><img src=\"https://colab.research.google.com/assets/colab-badge.svg\" alt=\"Open In Colab\"/></a>"
      ]
    },
    {
      "cell_type": "markdown",
      "metadata": {
        "id": "aUxp9-qEkbhh"
      },
      "source": [
        "# What if our features are with different variance \n",
        "\n",
        "<pre>\n",
        "* <b>As part of this task we will observe how linear models work in case of data having features with different variance</b>\n",
        "* <b>from the output of the above cells we can observe that var(F2)>>var(F1)>>Var(F3)</b>\n",
        "\n",
        "> <b>Task1</b>:\n",
        "    1. We will apply Logistic regression(SGDClassifier with logloss) on 'data' and check the feature importance\n",
        "    2. Apply SVM(SGDClassifier with hinge) on 'data' and check the feature importance\n",
        "\n",
        "> <b>Task2</b>:\n",
        "    1. Apply Logistic regression(SGDClassifier with logloss) on 'data' after standardization \n",
        "       i.e standardization(data, column wise): (column-mean(column))/std(column) and check the feature importance\n",
        "    2. Apply SVM(SGDClassifier with hinge) on 'data' after standardization \n",
        "       i.e standardization(data, column wise): (column-mean(column))/std(column) and check the feature importance\n",
        "\n",
        "</pre>"
      ]
    },
    {
      "cell_type": "markdown",
      "source": [
        "**Imports**"
      ],
      "metadata": {
        "id": "N6M0eZmSPVoX"
      }
    },
    {
      "cell_type": "code",
      "metadata": {
        "id": "8ArWK463kbhL"
      },
      "source": [
        "import numpy as np\n",
        "import pandas as pd\n",
        "import matplotlib.pyplot as plt\n",
        "import seaborn as sns\n",
        "from sklearn.linear_model import LogisticRegression\n",
        "from sklearn.preprocessing import StandardScaler\n",
        "from sklearn.svm import LinearSVC"
      ],
      "execution_count": 41,
      "outputs": []
    },
    {
      "cell_type": "markdown",
      "source": [
        "**Read data**"
      ],
      "metadata": {
        "id": "RXNpJn5sPZdS"
      }
    },
    {
      "cell_type": "code",
      "metadata": {
        "id": "5mldzJdakbhS"
      },
      "source": [
        "data = pd.read_csv('task_b.csv')\n",
        "data=data.iloc[:, 1:]"
      ],
      "execution_count": 42,
      "outputs": []
    },
    {
      "cell_type": "code",
      "metadata": {
        "scrolled": true,
        "id": "rsCrC2wckbhV",
        "colab": {
          "base_uri": "https://localhost:8080/",
          "height": 206
        },
        "outputId": "7d116bd3-1a6b-4246-aa70-59af2fd56efd"
      },
      "source": [
        "data.head()"
      ],
      "execution_count": 43,
      "outputs": [
        {
          "output_type": "execute_result",
          "data": {
            "text/plain": [
              "            f1            f2        f3    y\n",
              "0  -195.871045 -14843.084171  5.532140  1.0\n",
              "1 -1217.183964  -4068.124621  4.416082  1.0\n",
              "2     9.138451   4413.412028  0.425317  0.0\n",
              "3   363.824242  15474.760647  1.094119  0.0\n",
              "4  -768.812047  -7963.932192  1.870536  0.0"
            ],
            "text/html": [
              "\n",
              "  <div id=\"df-288f2cb2-108f-4f12-8418-782403923177\">\n",
              "    <div class=\"colab-df-container\">\n",
              "      <div>\n",
              "<style scoped>\n",
              "    .dataframe tbody tr th:only-of-type {\n",
              "        vertical-align: middle;\n",
              "    }\n",
              "\n",
              "    .dataframe tbody tr th {\n",
              "        vertical-align: top;\n",
              "    }\n",
              "\n",
              "    .dataframe thead th {\n",
              "        text-align: right;\n",
              "    }\n",
              "</style>\n",
              "<table border=\"1\" class=\"dataframe\">\n",
              "  <thead>\n",
              "    <tr style=\"text-align: right;\">\n",
              "      <th></th>\n",
              "      <th>f1</th>\n",
              "      <th>f2</th>\n",
              "      <th>f3</th>\n",
              "      <th>y</th>\n",
              "    </tr>\n",
              "  </thead>\n",
              "  <tbody>\n",
              "    <tr>\n",
              "      <th>0</th>\n",
              "      <td>-195.871045</td>\n",
              "      <td>-14843.084171</td>\n",
              "      <td>5.532140</td>\n",
              "      <td>1.0</td>\n",
              "    </tr>\n",
              "    <tr>\n",
              "      <th>1</th>\n",
              "      <td>-1217.183964</td>\n",
              "      <td>-4068.124621</td>\n",
              "      <td>4.416082</td>\n",
              "      <td>1.0</td>\n",
              "    </tr>\n",
              "    <tr>\n",
              "      <th>2</th>\n",
              "      <td>9.138451</td>\n",
              "      <td>4413.412028</td>\n",
              "      <td>0.425317</td>\n",
              "      <td>0.0</td>\n",
              "    </tr>\n",
              "    <tr>\n",
              "      <th>3</th>\n",
              "      <td>363.824242</td>\n",
              "      <td>15474.760647</td>\n",
              "      <td>1.094119</td>\n",
              "      <td>0.0</td>\n",
              "    </tr>\n",
              "    <tr>\n",
              "      <th>4</th>\n",
              "      <td>-768.812047</td>\n",
              "      <td>-7963.932192</td>\n",
              "      <td>1.870536</td>\n",
              "      <td>0.0</td>\n",
              "    </tr>\n",
              "  </tbody>\n",
              "</table>\n",
              "</div>\n",
              "      <button class=\"colab-df-convert\" onclick=\"convertToInteractive('df-288f2cb2-108f-4f12-8418-782403923177')\"\n",
              "              title=\"Convert this dataframe to an interactive table.\"\n",
              "              style=\"display:none;\">\n",
              "        \n",
              "  <svg xmlns=\"http://www.w3.org/2000/svg\" height=\"24px\"viewBox=\"0 0 24 24\"\n",
              "       width=\"24px\">\n",
              "    <path d=\"M0 0h24v24H0V0z\" fill=\"none\"/>\n",
              "    <path d=\"M18.56 5.44l.94 2.06.94-2.06 2.06-.94-2.06-.94-.94-2.06-.94 2.06-2.06.94zm-11 1L8.5 8.5l.94-2.06 2.06-.94-2.06-.94L8.5 2.5l-.94 2.06-2.06.94zm10 10l.94 2.06.94-2.06 2.06-.94-2.06-.94-.94-2.06-.94 2.06-2.06.94z\"/><path d=\"M17.41 7.96l-1.37-1.37c-.4-.4-.92-.59-1.43-.59-.52 0-1.04.2-1.43.59L10.3 9.45l-7.72 7.72c-.78.78-.78 2.05 0 2.83L4 21.41c.39.39.9.59 1.41.59.51 0 1.02-.2 1.41-.59l7.78-7.78 2.81-2.81c.8-.78.8-2.07 0-2.86zM5.41 20L4 18.59l7.72-7.72 1.47 1.35L5.41 20z\"/>\n",
              "  </svg>\n",
              "      </button>\n",
              "      \n",
              "  <style>\n",
              "    .colab-df-container {\n",
              "      display:flex;\n",
              "      flex-wrap:wrap;\n",
              "      gap: 12px;\n",
              "    }\n",
              "\n",
              "    .colab-df-convert {\n",
              "      background-color: #E8F0FE;\n",
              "      border: none;\n",
              "      border-radius: 50%;\n",
              "      cursor: pointer;\n",
              "      display: none;\n",
              "      fill: #1967D2;\n",
              "      height: 32px;\n",
              "      padding: 0 0 0 0;\n",
              "      width: 32px;\n",
              "    }\n",
              "\n",
              "    .colab-df-convert:hover {\n",
              "      background-color: #E2EBFA;\n",
              "      box-shadow: 0px 1px 2px rgba(60, 64, 67, 0.3), 0px 1px 3px 1px rgba(60, 64, 67, 0.15);\n",
              "      fill: #174EA6;\n",
              "    }\n",
              "\n",
              "    [theme=dark] .colab-df-convert {\n",
              "      background-color: #3B4455;\n",
              "      fill: #D2E3FC;\n",
              "    }\n",
              "\n",
              "    [theme=dark] .colab-df-convert:hover {\n",
              "      background-color: #434B5C;\n",
              "      box-shadow: 0px 1px 3px 1px rgba(0, 0, 0, 0.15);\n",
              "      filter: drop-shadow(0px 1px 2px rgba(0, 0, 0, 0.3));\n",
              "      fill: #FFFFFF;\n",
              "    }\n",
              "  </style>\n",
              "\n",
              "      <script>\n",
              "        const buttonEl =\n",
              "          document.querySelector('#df-288f2cb2-108f-4f12-8418-782403923177 button.colab-df-convert');\n",
              "        buttonEl.style.display =\n",
              "          google.colab.kernel.accessAllowed ? 'block' : 'none';\n",
              "\n",
              "        async function convertToInteractive(key) {\n",
              "          const element = document.querySelector('#df-288f2cb2-108f-4f12-8418-782403923177');\n",
              "          const dataTable =\n",
              "            await google.colab.kernel.invokeFunction('convertToInteractive',\n",
              "                                                     [key], {});\n",
              "          if (!dataTable) return;\n",
              "\n",
              "          const docLinkHtml = 'Like what you see? Visit the ' +\n",
              "            '<a target=\"_blank\" href=https://colab.research.google.com/notebooks/data_table.ipynb>data table notebook</a>'\n",
              "            + ' to learn more about interactive tables.';\n",
              "          element.innerHTML = '';\n",
              "          dataTable['output_type'] = 'display_data';\n",
              "          await google.colab.output.renderOutput(dataTable, element);\n",
              "          const docLink = document.createElement('div');\n",
              "          docLink.innerHTML = docLinkHtml;\n",
              "          element.appendChild(docLink);\n",
              "        }\n",
              "      </script>\n",
              "    </div>\n",
              "  </div>\n",
              "  "
            ]
          },
          "metadata": {},
          "execution_count": 43
        }
      ]
    },
    {
      "cell_type": "markdown",
      "source": [
        "**Correlation between features**"
      ],
      "metadata": {
        "id": "AbXV-DDPPcTT"
      }
    },
    {
      "cell_type": "code",
      "metadata": {
        "id": "FI18joJ_kbhZ",
        "colab": {
          "base_uri": "https://localhost:8080/",
          "height": 487
        },
        "outputId": "703c1799-00ba-4a21-a2e1-09f07550716e"
      },
      "source": [
        "corr = data.corr()\n",
        "round(corr,2)\n",
        "plt.figure(figsize=(12, 8))\n",
        "sns.heatmap(corr, cmap='flare', annot=True, linewidths=2)\n",
        "plt.show()"
      ],
      "execution_count": 68,
      "outputs": [
        {
          "output_type": "display_data",
          "data": {
            "text/plain": [
              "<Figure size 864x576 with 2 Axes>"
            ],
            "image/png": "[encoded data removed]"
          },
          "metadata": {
            "needs_background": "light"
          }
        }
      ]
    },
    {
      "cell_type": "markdown",
      "source": [
        "**Variance in data features**"
      ],
      "metadata": {
        "id": "5tPFKH3OPiUu"
      }
    },
    {
      "cell_type": "code",
      "metadata": {
        "scrolled": true,
        "id": "u40oCVMikbhc",
        "colab": {
          "base_uri": "https://localhost:8080/"
        },
        "outputId": "fd0b4cb1-9dd9-441f-ec68-5638419e250c"
      },
      "source": [
        "data.std()"
      ],
      "execution_count": 45,
      "outputs": [
        {
          "output_type": "execute_result",
          "data": {
            "text/plain": [
              "f1      488.195035\n",
              "f2    10403.417325\n",
              "f3        2.926662\n",
              "y         0.501255\n",
              "dtype: float64"
            ]
          },
          "metadata": {},
          "execution_count": 45
        }
      ]
    },
    {
      "cell_type": "code",
      "metadata": {
        "id": "yQIbNaHskbhe",
        "colab": {
          "base_uri": "https://localhost:8080/"
        },
        "outputId": "804f831b-ba68-4f2f-e61a-53b32253f8dd"
      },
      "source": [
        "X = data[['f1','f2','f3']].values\n",
        "Y = data['y'].values\n",
        "print(X.shape)\n",
        "print(Y.shape)"
      ],
      "execution_count": 46,
      "outputs": [
        {
          "output_type": "stream",
          "name": "stdout",
          "text": [
            "(200, 3)\n",
            "(200,)\n"
          ]
        }
      ]
    },
    {
      "cell_type": "markdown",
      "source": [
        "#Task1:\n",
        "\n",
        "1. **Apply Logistic regression(SGDClassifier with logloss) on 'data' and check the feature importance.**\n",
        "2. **Apply SVM(SGDClassifier with hinge) on 'data' and check the feature importance.**\n",
        "\n"
      ],
      "metadata": {
        "id": "hHbyEbjvUuJH"
      }
    },
    {
      "cell_type": "markdown",
      "source": [
        "**Logistic Regression**"
      ],
      "metadata": {
        "id": "5z0T0CpiZCaY"
      }
    },
    {
      "cell_type": "code",
      "source": [
        "logistic_clf = LogisticRegression(penalty='l2')\n",
        "logistic_clf.fit(X,Y)"
      ],
      "metadata": {
        "colab": {
          "base_uri": "https://localhost:8080/"
        },
        "id": "Txq3yb4EU1df",
        "outputId": "914ef7ff-c97c-43a9-b8ee-32bb12db8bf0"
      },
      "execution_count": 47,
      "outputs": [
        {
          "output_type": "execute_result",
          "data": {
            "text/plain": [
              "LogisticRegression()"
            ]
          },
          "metadata": {},
          "execution_count": 47
        }
      ]
    },
    {
      "cell_type": "markdown",
      "source": [
        "Accuracy of Logistic Regression"
      ],
      "metadata": {
        "id": "rBDCPxuhZIW3"
      }
    },
    {
      "cell_type": "code",
      "source": [
        "score = logistic_clf.score(X, Y)\n",
        "print(\"Accuracy Logistic Regression \", score)"
      ],
      "metadata": {
        "colab": {
          "base_uri": "https://localhost:8080/"
        },
        "id": "LKkmqbZ1U8YT",
        "outputId": "afe1c761-42c2-41b8-9ece-d0283b215530"
      },
      "execution_count": 48,
      "outputs": [
        {
          "output_type": "stream",
          "name": "stdout",
          "text": [
            "Accuracy Logistic Regression  0.93\n"
          ]
        }
      ]
    },
    {
      "cell_type": "markdown",
      "source": [
        "Feature importance"
      ],
      "metadata": {
        "id": "Du0kktOvZ34y"
      }
    },
    {
      "cell_type": "code",
      "source": [
        "classImportance = logistic_clf.coef_[0]\n",
        "for id, coef_ in enumerate(classImportance):\n",
        "  print(f\"F{id+1} coefficient =  {abs(classImportance[id])} \")"
      ],
      "metadata": {
        "colab": {
          "base_uri": "https://localhost:8080/"
        },
        "id": "rWU_yYAvU-PR",
        "outputId": "a4aaaf86-d708-416d-c545-ce840fabbd11"
      },
      "execution_count": 49,
      "outputs": [
        {
          "output_type": "stream",
          "name": "stdout",
          "text": [
            "F1 coefficient =  0.000889638113051081 \n",
            "F2 coefficient =  1.0416946094804374e-05 \n",
            "F3 coefficient =  1.9566801565319423 \n"
          ]
        }
      ]
    },
    {
      "cell_type": "markdown",
      "source": [
        "**SVM classfier**"
      ],
      "metadata": {
        "id": "eY0qo4AZQzss"
      }
    },
    {
      "cell_type": "code",
      "source": [
        "svmLinear = LinearSVC(penalty='l2', loss='hinge', max_iter=100000, tol=10e-5)\n",
        "svmLinear.fit(X,Y)"
      ],
      "metadata": {
        "colab": {
          "base_uri": "https://localhost:8080/"
        },
        "id": "GEwkl6yMVAGx",
        "outputId": "4422530f-04b9-4896-8d4a-09dde37429ec"
      },
      "execution_count": 50,
      "outputs": [
        {
          "output_type": "stream",
          "name": "stderr",
          "text": [
            "/usr/local/lib/python3.7/dist-packages/sklearn/svm/_base.py:1208: ConvergenceWarning: Liblinear failed to converge, increase the number of iterations.\n",
            "  ConvergenceWarning,\n"
          ]
        },
        {
          "output_type": "execute_result",
          "data": {
            "text/plain": [
              "LinearSVC(loss='hinge', max_iter=100000)"
            ]
          },
          "metadata": {},
          "execution_count": 50
        }
      ]
    },
    {
      "cell_type": "markdown",
      "source": [
        "Accuracy of Linear SVM "
      ],
      "metadata": {
        "id": "gIMCbjvzQ4a2"
      }
    },
    {
      "cell_type": "code",
      "source": [
        "score = svmLinear.score(X,Y)\n",
        "print(\"Accuracy svm classfier \", score)"
      ],
      "metadata": {
        "colab": {
          "base_uri": "https://localhost:8080/"
        },
        "id": "4rwj7wrYVRP1",
        "outputId": "62b5f6a2-b0d9-45d8-f43c-a3c029948d44"
      },
      "execution_count": 61,
      "outputs": [
        {
          "output_type": "stream",
          "name": "stdout",
          "text": [
            "Accuracy svm classfier  0.5\n"
          ]
        }
      ]
    },
    {
      "cell_type": "markdown",
      "source": [
        "Feature importance"
      ],
      "metadata": {
        "id": "7reyybCzS3GT"
      }
    },
    {
      "cell_type": "code",
      "source": [
        "svcImportance = svmLinear.coef_[0]\n",
        "print(\"Feature importance for SVM:\")\n",
        "for id, coeff_ in enumerate(svcImportance):\n",
        "  print(f\"F{id+1} coefficient = {abs(svcImportance[id])} \")"
      ],
      "metadata": {
        "colab": {
          "base_uri": "https://localhost:8080/"
        },
        "id": "ZUrhqm4OVS4Y",
        "outputId": "f8f0dc94-6e32-46b2-ac7c-bd88917867fc"
      },
      "execution_count": 60,
      "outputs": [
        {
          "output_type": "stream",
          "name": "stdout",
          "text": [
            "Feature importance for SVM:\n",
            "F1 coefficient = 0.0007747251421060052 \n",
            "F2 coefficient = 0.0002604021844168057 \n",
            "F3 coefficient = 0.19406868736686486 \n"
          ]
        }
      ]
    },
    {
      "cell_type": "markdown",
      "source": [
        "***Observation***\n",
        "\n",
        "1. Logistic regression fits well with good accuracy, variance in data has less impact on LR\n",
        "2. Linear-SVM  failed to converge with more than 100000 iteration with hinge loss, it has much more impact of variance in data \n",
        "3. Feature Importance provided by LR:  F3>F2>F1 and that provided by linear SVM: F3>F1>F2\n"
      ],
      "metadata": {
        "id": "wTwD1mvOVX2S"
      }
    },
    {
      "cell_type": "markdown",
      "source": [
        "#Task2:\n",
        "\n",
        "\n",
        "1. **Apply Logistic regression(SGDClassifier with logloss) on 'data' after standardization i.e standardization(data, column wise): (column-mean(column))/std(column) and check the feature importance.**\n",
        "2. **Apply SVM(SGDClassifier with hinge) on 'data' after standardization i.e standardization(data, column wise): (column-mean(column))/std(column) and check the feature importance.**\n",
        "\n",
        "\n"
      ],
      "metadata": {
        "id": "Nr3HVHN5Vg26"
      }
    },
    {
      "cell_type": "markdown",
      "source": [
        "Scaling the feature to mean = 0 & variance = 1"
      ],
      "metadata": {
        "id": "cFNnq0SqSRgV"
      }
    },
    {
      "cell_type": "code",
      "source": [
        "scalar = StandardScaler()\n",
        "X = scalar.fit_transform(X)"
      ],
      "metadata": {
        "id": "ju3Mgb3zVwEU"
      },
      "execution_count": 53,
      "outputs": []
    },
    {
      "cell_type": "markdown",
      "source": [
        "Logistic Regression on Standaradized data"
      ],
      "metadata": {
        "id": "lXASH721ScQ9"
      }
    },
    {
      "cell_type": "code",
      "source": [
        "logistic_clf_standard = LogisticRegression(penalty='l2')\n",
        "logistic_clf_standard.fit(X,Y)"
      ],
      "metadata": {
        "id": "Ip3i4CKuVxih",
        "colab": {
          "base_uri": "https://localhost:8080/"
        },
        "outputId": "28754877-09be-438b-883a-43a093594ec0"
      },
      "execution_count": 54,
      "outputs": [
        {
          "output_type": "execute_result",
          "data": {
            "text/plain": [
              "LogisticRegression()"
            ]
          },
          "metadata": {},
          "execution_count": 54
        }
      ]
    },
    {
      "cell_type": "markdown",
      "source": [
        "Accuracy of Logistic Regression"
      ],
      "metadata": {
        "id": "-ncgMGW7SheH"
      }
    },
    {
      "cell_type": "code",
      "source": [
        "score_stanrard = logistic_clf_standard.score(X,Y)\n",
        "print(\"Accuracy Logistic Regression with standardized feature\", score_stanrard)"
      ],
      "metadata": {
        "colab": {
          "base_uri": "https://localhost:8080/"
        },
        "id": "jJBpeI1dV0Ol",
        "outputId": "5786624b-41d6-49ce-b0f0-a66d6abd1108"
      },
      "execution_count": 57,
      "outputs": [
        {
          "output_type": "stream",
          "name": "stdout",
          "text": [
            "Accuracy Logistic Regression with standardized feature 0.93\n"
          ]
        }
      ]
    },
    {
      "cell_type": "markdown",
      "source": [
        "Feature importance"
      ],
      "metadata": {
        "id": "iYjCH0b_Sk8V"
      }
    },
    {
      "cell_type": "code",
      "source": [
        "classImportance_standard = logistic_clf_standard.coef_[0]\n",
        "print(\"classs importance on standardized data\")\n",
        "for id, coeff_ in enumerate(classImportance_standard):\n",
        "  print(f\"F{id+1} coefficient = {abs(classImportance_standard[id])} \")"
      ],
      "metadata": {
        "colab": {
          "base_uri": "https://localhost:8080/"
        },
        "id": "hQE0BAiWV2D_",
        "outputId": "6822646b-cba4-4d16-a6e2-0b11d7b54b11"
      },
      "execution_count": 56,
      "outputs": [
        {
          "output_type": "stream",
          "name": "stdout",
          "text": [
            "classs importance on standardized data\n",
            "F1 coefficient = 0.24105482944744733 \n",
            "F2 coefficient = 0.07588844908289781 \n",
            "F3 coefficient = 3.9035689934763775 \n"
          ]
        }
      ]
    },
    {
      "cell_type": "markdown",
      "source": [
        "SVM classfier"
      ],
      "metadata": {
        "id": "Nc9HNN8OTBLn"
      }
    },
    {
      "cell_type": "code",
      "source": [
        "svmLinear_standard = LinearSVC(penalty='l2', loss='hinge', max_iter=500, tol=10e-5)\n",
        "svmLinear_standard.fit(X,Y)"
      ],
      "metadata": {
        "colab": {
          "base_uri": "https://localhost:8080/"
        },
        "id": "MyizTQrlV3s6",
        "outputId": "024472b2-d6ba-4321-cc76-36b6dde241eb"
      },
      "execution_count": 62,
      "outputs": [
        {
          "output_type": "execute_result",
          "data": {
            "text/plain": [
              "LinearSVC(loss='hinge', max_iter=500)"
            ]
          },
          "metadata": {},
          "execution_count": 62
        }
      ]
    },
    {
      "cell_type": "markdown",
      "source": [
        "Accuracy of SVM classfier"
      ],
      "metadata": {
        "id": "Z3lLxjaLTNrV"
      }
    },
    {
      "cell_type": "code",
      "source": [
        "score_svm_standard = svmLinear_standard.score(X,Y)\n",
        "print(f\"Accuracy of SVM linear classfier on standardized dataset {score_svm_standard}\")"
      ],
      "metadata": {
        "colab": {
          "base_uri": "https://localhost:8080/"
        },
        "id": "a0x1sS9MTHFg",
        "outputId": "5ee71365-ba75-4e80-88a2-9fd4fe8c89a5"
      },
      "execution_count": 63,
      "outputs": [
        {
          "output_type": "stream",
          "name": "stdout",
          "text": [
            "Accuracy of SVM linear classfier on standardized dataset 0.925\n"
          ]
        }
      ]
    },
    {
      "cell_type": "markdown",
      "source": [
        "Feature importance"
      ],
      "metadata": {
        "id": "CSqQJKzfTWbH"
      }
    },
    {
      "cell_type": "code",
      "source": [
        "svcImportance_standard = svmLinear_standard.coef_[0]\n",
        "print(\"Feature importance for SVM linear with standardized feature:\")\n",
        "for id, coeff_ in enumerate(svcImportance_standard):\n",
        "  print(f\"F{id+1} coefficient = {abs(svcImportance_standard[id])} \")"
      ],
      "metadata": {
        "colab": {
          "base_uri": "https://localhost:8080/"
        },
        "id": "QmxAmvL2V62L",
        "outputId": "c7a5c3a1-ad7e-40df-c327-3f752cca90c9"
      },
      "execution_count": 65,
      "outputs": [
        {
          "output_type": "stream",
          "name": "stdout",
          "text": [
            "Feature importance for SVM linear with standardized feature:\n",
            "F1 coefficient = 0.21573077183743256 \n",
            "F2 coefficient = 0.0752043728893808 \n",
            "F3 coefficient = 2.933675248492721 \n"
          ]
        }
      ]
    },
    {
      "cell_type": "markdown",
      "source": [
        "***Observation***\n",
        "\n",
        "1. Logistic regression fits well and with good accuracy on standarized dataset\n",
        "2. SVM Linear converges super fast after data standardization, accuracy increased to 0.92\n",
        "3. Feature Importance provided by LR: F3>F1>F2 and that provided by linear SVM: F3>F1>F2 which is stable, thus we can conclude that standarization is necessary for linear models as after standarization the varianace becomes stable across all features and we get stable feature importance"
      ],
      "metadata": {
        "id": "IZIFNVlmV9Ys"
      }
    }
  ]
}